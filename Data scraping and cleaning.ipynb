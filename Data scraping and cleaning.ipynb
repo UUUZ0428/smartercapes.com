{
 "cells": [
  {
   "cell_type": "code",
   "execution_count": 1,
   "metadata": {},
   "outputs": [],
   "source": [
    "import tools\n",
    "import json\n",
    "import pandas as pd"
   ]
  },
  {
   "cell_type": "markdown",
   "metadata": {},
   "source": [
    "### 1. Scrape the data"
   ]
  },
  {
   "cell_type": "markdown",
   "metadata": {},
   "source": [
    "This takes a while as the database is around 80 Mb."
   ]
  },
  {
   "cell_type": "code",
   "execution_count": 2,
   "metadata": {},
   "outputs": [
    {
     "name": "stdout",
     "output_type": "stream",
     "text": [
      "Opening a browser window...\n",
      "Browser window open, loading the page...\n",
      "Page loaded, parsing dataset with pandas...\n",
      "Dataset parsed, closing browser window.\n"
     ]
    }
   ],
   "source": [
    "df = tools.get_raw_cape_dataframe()"
   ]
  },
  {
   "cell_type": "markdown",
   "metadata": {},
   "source": [
    "### 2. Clean and save the data"
   ]
  },
  {
   "cell_type": "markdown",
   "metadata": {},
   "source": [
    "Available terms:"
   ]
  },
  {
   "cell_type": "code",
   "execution_count": 3,
   "metadata": {},
   "outputs": [
    {
     "data": {
      "text/plain": [
       "array(['FA17', 'S317', 'S217', 'S117', 'SP17', 'WI17', 'FA16', 'S316',\n",
       "       'S216', 'S116', 'SP16', 'WI16', 'FA15', 'S315', 'S215', 'S115',\n",
       "       'SP15', 'WI15', 'FA14', 'S314', 'S214', 'S114', 'SP14', 'WI14',\n",
       "       'FA13', 'S313', 'S213', 'S113', 'SP13', 'WI13', 'FA12', 'S312',\n",
       "       'S212', 'S112', 'SP12', 'WI12', 'FA11', 'S311', 'S211', 'S111',\n",
       "       'SP11', 'WI11', 'FA10', 'SU10', 'SP10', 'WI10', 'FA09', 'SU09',\n",
       "       'SP09', 'WI09', 'FA08', 'SU08', 'SP08', 'WI08', 'FA07', 'SU07'], dtype=object)"
      ]
     },
     "execution_count": 3,
     "metadata": {},
     "output_type": "execute_result"
    }
   ],
   "source": [
    "df.Term.unique()"
   ]
  },
  {
   "cell_type": "code",
   "execution_count": 4,
   "metadata": {},
   "outputs": [],
   "source": [
    "terms = ['FA15', 'WI16', 'SP16', 'S116', 'S216', 'S316',\n",
    "         'FA16', 'WI17', 'SP17', 'S117', 'S217', 'S317',\n",
    "         'FA17']"
   ]
  },
  {
   "cell_type": "code",
   "execution_count": 5,
   "metadata": {},
   "outputs": [],
   "source": [
    "clean_df = tools.get_clean_cape_dataframe(df, terms)\n",
    "clean_df.to_csv('data.csv')"
   ]
  },
  {
   "cell_type": "markdown",
   "metadata": {},
   "source": [
    "### 3. Build JSON data files and save them"
   ]
  },
  {
   "cell_type": "code",
   "execution_count": 6,
   "metadata": {},
   "outputs": [],
   "source": [
    "ranking = tools.get_prof_ranking_dictionary(clean_df)\n",
    "time = tools.get_time_dictionary(clean_df)\n",
    "grade = tools.get_grade_dictionary(clean_df)\n",
    "depts_and_courses = tools.get_depts_and_courses_dictionary(clean_df)"
   ]
  },
  {
   "cell_type": "code",
   "execution_count": 7,
   "metadata": {},
   "outputs": [],
   "source": [
    "with open('static/data/ranking.json', 'w') as f:\n",
    "    json.dump(ranking, f)"
   ]
  },
  {
   "cell_type": "code",
   "execution_count": 8,
   "metadata": {},
   "outputs": [],
   "source": [
    "with open('static/data/time.json', 'w') as f:\n",
    "    json.dump(time, f)"
   ]
  },
  {
   "cell_type": "code",
   "execution_count": 9,
   "metadata": {},
   "outputs": [],
   "source": [
    "with open('static/data/grade.json', 'w') as f:\n",
    "    json.dump(grade, f)"
   ]
  },
  {
   "cell_type": "code",
   "execution_count": 10,
   "metadata": {},
   "outputs": [],
   "source": [
    "with open('static/data/depts_and_courses.json', 'w') as f:\n",
    "    json.dump(depts_and_courses, f)"
   ]
  }
 ],
 "metadata": {
  "kernelspec": {
   "display_name": "Python 3",
   "language": "python",
   "name": "python3"
  },
  "language_info": {
   "codemirror_mode": {
    "name": "ipython",
    "version": 3
   },
   "file_extension": ".py",
   "mimetype": "text/x-python",
   "name": "python",
   "nbconvert_exporter": "python",
   "pygments_lexer": "ipython3",
   "version": "3.6.4"
  }
 },
 "nbformat": 4,
 "nbformat_minor": 2
}
