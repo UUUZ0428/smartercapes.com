{
 "cells": [
  {
   "cell_type": "code",
   "execution_count": 1,
   "metadata": {
    "scrolled": true
   },
   "outputs": [],
   "source": [
    "import tools\n",
    "import json\n",
    "import pandas as pd"
   ]
  },
  {
   "cell_type": "markdown",
   "metadata": {},
   "source": [
    "# 1. Scrape the data"
   ]
  },
  {
   "cell_type": "markdown",
   "metadata": {},
   "source": [
    "This takes a while as the database is around 80 Mb."
   ]
  },
  {
   "cell_type": "code",
   "execution_count": 2,
   "metadata": {},
   "outputs": [
    {
     "name": "stdout",
     "output_type": "stream",
     "text": [
      "Opening a browser window...\n",
      "Browser window open, loading the page...\n",
      "Page loaded, parsing dataset with pandas...\n",
      "Dataset parsed, closing browser window.\n"
     ]
    }
   ],
   "source": [
    "df = tools.get_raw_cape_dataframe()"
   ]
  },
  {
   "cell_type": "markdown",
   "metadata": {},
   "source": [
    "# 2. Clean and save the data"
   ]
  },
  {
   "cell_type": "markdown",
   "metadata": {},
   "source": [
    "Available terms:"
   ]
  },
  {
   "cell_type": "code",
   "execution_count": 3,
   "metadata": {},
   "outputs": [
    {
     "data": {
      "text/plain": [
       "array(['S118', 'SP18', 'WI18', 'FA17', 'S317', 'S217', 'S117', 'SP17',\n",
       "       'WI17', 'FA16', 'S316', 'S216', 'S116', 'SP16', 'WI16', 'FA15',\n",
       "       'S315', 'S215', 'S115', 'SP15', 'WI15', 'FA14', 'S314', 'S214',\n",
       "       'S114', 'SP14', 'WI14', 'FA13', 'S313', 'S213', 'S113', 'SP13',\n",
       "       'WI13', 'FA12', 'S312', 'S212', 'S112', 'SP12', 'WI12', 'FA11',\n",
       "       'S311', 'S211', 'S111', 'SP11', 'WI11', 'FA10', 'SU10', 'SP10',\n",
       "       'WI10', 'FA09', 'SU09', 'SP09', 'WI09', 'FA08', 'SU08', 'SP08',\n",
       "       'WI08', 'FA07', 'SU07'], dtype=object)"
      ]
     },
     "execution_count": 3,
     "metadata": {},
     "output_type": "execute_result"
    }
   ],
   "source": [
    "df.Term.unique()"
   ]
  },
  {
   "cell_type": "code",
   "execution_count": 4,
   "metadata": {},
   "outputs": [],
   "source": [
    "terms = ['FA15', 'WI16', 'SP16', 'S116', 'S216', 'S316',\n",
    "         'FA16', 'WI17', 'SP17', 'S117', 'S217', 'S317',\n",
    "         'FA17', 'WI18', 'SP18', 'S118']"
   ]
  },
  {
   "cell_type": "code",
   "execution_count": 5,
   "metadata": {},
   "outputs": [],
   "source": [
    "clean_df = tools.get_clean_cape_dataframe(df, terms)\n",
    "clean_df.to_csv('data.csv')"
   ]
  },
  {
   "cell_type": "markdown",
   "metadata": {},
   "source": [
    "# 3. Build JSON data files and save them"
   ]
  },
  {
   "cell_type": "markdown",
   "metadata": {},
   "source": [
    "### Ranking"
   ]
  },
  {
   "cell_type": "code",
   "execution_count": 6,
   "metadata": {},
   "outputs": [],
   "source": [
    "ranking = tools.get_prof_ranking_dictionary(clean_df)\n",
    "with open('static/data/ranking.json', 'w') as f:\n",
    "    json.dump(ranking, f)"
   ]
  },
  {
   "cell_type": "markdown",
   "metadata": {},
   "source": [
    "### Time commitment"
   ]
  },
  {
   "cell_type": "code",
   "execution_count": 7,
   "metadata": {},
   "outputs": [],
   "source": [
    "time = tools.get_time_dictionary(clean_df)\n",
    "with open('static/data/time.json', 'w') as f:\n",
    "    json.dump(time, f)"
   ]
  },
  {
   "cell_type": "markdown",
   "metadata": {},
   "source": [
    "### Expected grade"
   ]
  },
  {
   "cell_type": "code",
   "execution_count": 8,
   "metadata": {},
   "outputs": [],
   "source": [
    "grade = tools.get_grade_dictionary(clean_df)\n",
    "with open('static/data/grade.json', 'w') as f:\n",
    "    json.dump(grade, f)"
   ]
  },
  {
   "cell_type": "markdown",
   "metadata": {},
   "source": [
    "### Departments and courses"
   ]
  },
  {
   "cell_type": "code",
   "execution_count": 9,
   "metadata": {},
   "outputs": [],
   "source": [
    "depts_and_courses = tools.get_depts_and_courses_dictionary(clean_df)\n",
    "with open('static/data/depts_and_courses.json', 'w') as f:\n",
    "    json.dump(depts_and_courses, f)"
   ]
  },
  {
   "cell_type": "markdown",
   "metadata": {},
   "source": [
    "### Now commit, push to GitHub and deploy:\n",
    "\n",
    "```bash\n",
    "git commit -am \"Update data\"\n",
    "git push \n",
    "git push heroku master\n",
    "```"
   ]
  },
  {
   "cell_type": "code",
   "execution_count": null,
   "metadata": {},
   "outputs": [],
   "source": []
  }
 ],
 "metadata": {
  "kernelspec": {
   "display_name": "Python 3",
   "language": "python",
   "name": "python3"
  },
  "language_info": {
   "codemirror_mode": {
    "name": "ipython",
    "version": 3
   },
   "file_extension": ".py",
   "mimetype": "text/x-python",
   "name": "python",
   "nbconvert_exporter": "python",
   "pygments_lexer": "ipython3",
   "version": "3.7.0"
  }
 },
 "nbformat": 4,
 "nbformat_minor": 2
}
